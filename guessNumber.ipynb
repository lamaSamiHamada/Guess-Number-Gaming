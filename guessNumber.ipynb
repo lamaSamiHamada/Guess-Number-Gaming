{
 "cells": [
  {
   "cell_type": "code",
   "execution_count": 7,
   "id": "02c3af94-9065-4d4a-aff2-2e88064c573b",
   "metadata": {},
   "outputs": [
    {
     "name": "stdout",
     "output_type": "stream",
     "text": [
      " Game levels :\n",
      "    *(1) Easy:\n",
      "    -limits:[1-10]\n",
      "    -No.of trial:3\n",
      "    *(2) Immediate:\n",
      "    -limits:[1-100]\n",
      "    -No.of trial: 7\n",
      "    *(3) Hard:\n",
      "    -limits:[1-1000]\n",
      "    -NO.of trial:15 \n"
     ]
    },
    {
     "name": "stdin",
     "output_type": "stream",
     "text": [
      "choice your level : \n",
      " (1) Easy \t (2) Immediate \t (3) Hard  5\n"
     ]
    },
    {
     "name": "stdout",
     "output_type": "stream",
     "text": [
      "Invoild choice!Please choose 1,2 or3\n"
     ]
    },
    {
     "name": "stdin",
     "output_type": "stream",
     "text": [
      "choice your level : \n",
      " (1) Easy \t (2) Immediate \t (3) Hard  3\n"
     ]
    },
    {
     "data": {
      "text/plain": [
       "3"
      ]
     },
     "execution_count": 7,
     "metadata": {},
     "output_type": "execute_result"
    }
   ],
   "source": [
    "def show_level ():\n",
    "    print (''' Game levels :\n",
    "    *(1) Easy:\n",
    "    -limits:[1-10]\n",
    "    -No.of trial:3\n",
    "    *(2) Immediate:\n",
    "    -limits:[1-100]\n",
    "    -No.of trial: 7\n",
    "    *(3) Hard:\n",
    "    -limits:[1-1000]\n",
    "    -NO.of trial:15 ''')\n",
    "    \n",
    "show_level()\n",
    "def game_level ():\n",
    "    while True:\n",
    "        game_level = input('choice your level : \\n (1) Easy \\t (2) Immediate \\t (3) Hard ')\n",
    "        if game_level in ['1','2','3']:\n",
    "            game_level= int (game_level)\n",
    "            break\n",
    "        else :\n",
    "            print ('Invoild choice!Please choose 1,2 or3')\n",
    "            continue \n",
    "    return game_level\n",
    "game_level()\n",
    " "
   ]
  },
  {
   "cell_type": "code",
   "execution_count": 18,
   "id": "510473e4-67eb-4431-b515-173352e367ae",
   "metadata": {},
   "outputs": [],
   "source": [
    "\n",
    "def set_game_setting(game_level):\n",
    "    if game_level ==1 :\n",
    "        limits =range(1,11)\n",
    "        no_trial =3\n",
    "    elif game_level==2 :\n",
    "        limits =range(1,101)\n",
    "        no_trial=7\n",
    "    elif game_level==3 :\n",
    "        limits=range(1,1001)\n",
    "        no_trial=15\n",
    "    else :\n",
    "         print('Invalid choice ,defaulting Esay.')\n",
    "         limits = range(1,11)\n",
    "         no_trial=3\n",
    "    return limits,no_trial \n",
    " "
   ]
  },
  {
   "cell_type": "code",
   "execution_count": 19,
   "id": "4a383011-6134-417b-90e6-01297084344d",
   "metadata": {},
   "outputs": [],
   "source": [
    "import random \n",
    "def start_play(limits,no_trial):\n",
    "    hidden =random.choice(limits)\n",
    "    user_trial=0\n",
    "    while user_trial<no_trial :\n",
    "        guess = int(input('guess the number'))\n",
    "        user_trial+=1            \n",
    "        if guess == hidden :\n",
    "             print(f'Congratulation , you know it in {user_trial} trial')\n",
    "             break\n",
    "        else:\n",
    "            if user_trial==no_trial:\n",
    "                print('you lose')\n",
    "                print(f'the hidden number :{hidden}')\n",
    "            elif guess<hidden :\n",
    "                print ('NO ,Increase!')\n",
    "            elif guess>hidden:\n",
    "                print ('No ,Decrease!')\n",
    "        continue           "
   ]
  },
  {
   "cell_type": "code",
   "execution_count": 13,
   "id": "bd83ae01-8fc4-404c-b1b4-8a0d1d20a902",
   "metadata": {},
   "outputs": [
    {
     "name": "stdin",
     "output_type": "stream",
     "text": [
      "guess the number 5\n"
     ]
    },
    {
     "name": "stdout",
     "output_type": "stream",
     "text": [
      "NO ,Increase!\n"
     ]
    },
    {
     "name": "stdin",
     "output_type": "stream",
     "text": [
      "guess the number 8\n"
     ]
    },
    {
     "name": "stdout",
     "output_type": "stream",
     "text": [
      "NO ,Increase!\n"
     ]
    },
    {
     "name": "stdin",
     "output_type": "stream",
     "text": [
      "guess the number 9\n"
     ]
    },
    {
     "name": "stdout",
     "output_type": "stream",
     "text": [
      "you lose\n",
      "the hidden number :10\n"
     ]
    }
   ],
   "source": [
    "start_play(range(1,11),3)"
   ]
  },
  {
   "cell_type": "code",
   "execution_count": 20,
   "id": "5792753a-6a64-432b-a509-55207ddd5067",
   "metadata": {},
   "outputs": [],
   "source": [
    "def play():\n",
    "    show_level()\n",
    "    while True:\n",
    "        geme_level = int(game_level())\n",
    "        limits,no_trial=set_game_setting(game_level)\n",
    "        start_play(limits,no_trial)\n",
    "        again = input('would you like again?')\n",
    "        if again =='Y' or again =='y':\n",
    "            continue\n",
    "        else :\n",
    "            break\n",
    "        \n",
    "        "
   ]
  },
  {
   "cell_type": "code",
   "execution_count": null,
   "id": "af538675-b105-4de1-8c83-0dd7f137274d",
   "metadata": {},
   "outputs": [
    {
     "name": "stdout",
     "output_type": "stream",
     "text": [
      " Game levels :\n",
      "    *(1) Easy:\n",
      "    -limits:[1-10]\n",
      "    -No.of trial:3\n",
      "    *(2) Immediate:\n",
      "    -limits:[1-100]\n",
      "    -No.of trial: 7\n",
      "    *(3) Hard:\n",
      "    -limits:[1-1000]\n",
      "    -NO.of trial:15 \n"
     ]
    },
    {
     "name": "stdin",
     "output_type": "stream",
     "text": [
      "choice your level : \n",
      " (1) Easy \t (2) Immediate \t (3) Hard  1\n"
     ]
    },
    {
     "name": "stdout",
     "output_type": "stream",
     "text": [
      "Invalid choice ,defaulting Esay.\n"
     ]
    }
   ],
   "source": [
    " play()"
   ]
  },
  {
   "cell_type": "code",
   "execution_count": null,
   "id": "2aacf374-34b3-4268-b792-030973c66fbe",
   "metadata": {},
   "outputs": [],
   "source": []
  },
  {
   "cell_type": "code",
   "execution_count": null,
   "id": "489131d7-f54e-48ab-b544-abaf8abc6094",
   "metadata": {},
   "outputs": [],
   "source": []
  }
 ],
 "metadata": {
  "kernelspec": {
   "display_name": "Python [conda env:anaconda3]",
   "language": "python",
   "name": "conda-env-anaconda3-py"
  },
  "language_info": {
   "codemirror_mode": {
    "name": "ipython",
    "version": 3
   },
   "file_extension": ".py",
   "mimetype": "text/x-python",
   "name": "python",
   "nbconvert_exporter": "python",
   "pygments_lexer": "ipython3",
   "version": "3.13.5"
  }
 },
 "nbformat": 4,
 "nbformat_minor": 5
}
